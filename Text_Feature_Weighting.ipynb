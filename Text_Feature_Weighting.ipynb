
{
 "cells": [
  {
   "cell_type": "code",
   "execution_count": 1,
   "id": "b9c1f6f1",
   "metadata": {},
   "outputs": [
    {
     "name": "stdout",
     "output_type": "stream",
     "text": [
      "Term Frequency Matrix:\n",
      "[[1 0 0 1 0 0 1 0 0 0 0 2 1 0 0 1 0 1 1 0 0 1]\n",
      " [1 0 0 0 0 0 0 0 1 1 0 0 0 1 0 0 1 0 0 1 1 0]\n",
      " [1 1 1 0 1 1 0 1 0 0 1 0 0 0 1 0 0 0 0 0 0 0]]\n",
      "\n",
      "Feature Names:\n",
      "['and' 'antibiotics' 'as' 'breath' 'bronchitis' 'confirmed' 'cough'\n",
      " 'diagnosis' 'elevated' 'examination' 'inhaler' 'of' 'patient' 'physical'\n",
      " 'prescribed' 'presented' 'revealed' 'shortness' 'symptoms' 'temperature'\n",
      " 'wheezing' 'with']\n"
     ]
    }
   ],
   "source": [
    "from sklearn.feature_extraction.text import CountVectorizer\n",
    "\n",
    "# Sample medical transcripts\n",
    "medical_transcripts = [\n",
    "    \"Patient presented with symptoms of cough and shortness of breath.\",\n",
    "    \"Physical examination revealed elevated temperature and wheezing.\",\n",
    "    \"Diagnosis confirmed as bronchitis, prescribed antibiotics and inhaler.\"\n",
    "]\n",
    "\n",
    "# Initialize CountVectorizer to convert text into term frequency matrix\n",
    "vectorizer = CountVectorizer()\n",
    "\n",
    "# Fit and transform the medical transcripts\n",
    "tf_matrix = vectorizer.fit_transform(medical_transcripts)\n",
    "\n",
    "# Get the feature names (terms)\n",
    "feature_names = vectorizer.get_feature_names_out()\n",
    "\n",
    "# Print the term frequency matrix\n",
    "print(\"Term Frequency Matrix:\")\n",
    "print(tf_matrix.toarray())\n",
    "\n",
    "# Print the feature names\n",
    "print(\"\\nFeature Names:\")\n",
    "print(feature_names)\n"
   ]
  },
  {
   "cell_type": "code",
   "execution_count": 2,
   "id": "da86899f",
   "metadata": {},
   "outputs": [
    {
     "name": "stdout",
     "output_type": "stream",
     "text": [
      "TF-IDF Matrix:\n",
      "[[0.17531933 0.         0.         0.29684142 0.         0.\n",
      "  0.29684142 0.         0.         0.         0.         0.59368285\n",
      "  0.29684142 0.         0.         0.29684142 0.         0.29684142\n",
      "  0.29684142 0.         0.         0.29684142]\n",
      " [0.2344005  0.         0.         0.         0.         0.\n",
      "  0.         0.         0.39687454 0.39687454 0.         0.\n",
      "  0.         0.39687454 0.         0.         0.39687454 0.\n",
      "  0.         0.39687454 0.39687454 0.        ]\n",
      " [0.21786941 0.36888498 0.36888498 0.         0.36888498 0.36888498\n",
      "  0.         0.36888498 0.         0.         0.36888498 0.\n",
      "  0.         0.         0.36888498 0.         0.         0.\n",
      "  0.         0.         0.         0.        ]]\n",
      "\n",
      "Feature Names:\n",
      "['and' 'antibiotics' 'as' 'breath' 'bronchitis' 'confirmed' 'cough'\n",
      " 'diagnosis' 'elevated' 'examination' 'inhaler' 'of' 'patient' 'physical'\n",
      " 'prescribed' 'presented' 'revealed' 'shortness' 'symptoms' 'temperature'\n",
      " 'wheezing' 'with']\n"
     ]
    }
   ],
   "source": [
    "from sklearn.feature_extraction.text import TfidfVectorizer\n",
    "\n",
    "# Sample medical transcripts\n",
    "medical_transcripts = [\n",
    "    \"Patient presented with symptoms of cough and shortness of breath.\",\n",
    "    \"Physical examination revealed elevated temperature and wheezing.\",\n",
    "    \"Diagnosis confirmed as bronchitis, prescribed antibiotics and inhaler.\"\n",
    "]\n",
    "\n",
    "# Initialize TfidfVectorizer to convert text into TF-IDF matrix\n",
    "vectorizer = TfidfVectorizer()\n",
    "\n",
    "# Fit and transform the medical transcripts\n",
    "tfidf_matrix = vectorizer.fit_transform(medical_transcripts)\n",
    "\n",
    "# Get the feature names (terms)\n",
    "feature_names = vectorizer.get_feature_names_out()\n",
    "\n",
    "# Print the TF-IDF matrix\n",
    "print(\"TF-IDF Matrix:\")\n",
    "print(tfidf_matrix.toarray())\n",
    "\n",
    "# Print the feature names\n",
    "print(\"\\nFeature Names:\")\n",
    "print(feature_names)\n"
   ]
  },
  {
   "cell_type": "code",
   "execution_count": 2,
   "id": "ddde0f2e",
   "metadata": {},
   "outputs": [
    {
     "name": "stdout",
     "output_type": "stream",
     "text": [
      "Binary Matrix:\n",
      "[[1 0 0 1 0 0 1 0 0 0 0 1 1 0 0 1 0 1 1 0 0 1]\n",
      " [1 0 0 0 0 0 0 0 1 1 0 0 0 1 0 0 1 0 0 1 1 0]\n",
      " [1 1 1 0 1 1 0 1 0 0 1 0 0 0 1 0 0 0 0 0 0 0]]\n",
      "\n",
      "Feature Names:\n",
      "['and' 'antibiotics' 'as' 'breath' 'bronchitis' 'confirmed' 'cough'\n",
      " 'diagnosis' 'elevated' 'examination' 'inhaler' 'of' 'patient' 'physical'\n",
      " 'prescribed' 'presented' 'revealed' 'shortness' 'symptoms' 'temperature'\n",
      " 'wheezing' 'with']\n"
     ]
    }
   ],
   "source": [
    "from sklearn.feature_extraction.text import CountVectorizer\n",
    "\n",
    "# Sample medical transcripts\n",
    "medical_transcripts = [\n",
    "    \"Patient presented with symptoms of cough and shortness of breath.\",\n",
    "    \"Physical examination revealed elevated temperature and wheezing.\",\n",
    "    \"Diagnosis confirmed as bronchitis, prescribed antibiotics and inhaler.\"\n",
    "]\n",
    "\n",
    "# Initialize CountVectorizer to convert text into binary matrix\n",
    "vectorizer = CountVectorizer(binary=True)\n",
    "\n",
    "# Fit and transform the medical transcripts\n",
    "binary_matrix = vectorizer.fit_transform(medical_transcripts)\n",
    "\n",
    "# Get the feature names (terms)\n",
    "feature_names = vectorizer.get_feature_names_out()\n",
    "\n",
    "# Print the binary matrix\n",
    "print(\"Binary Matrix:\")\n",
    "print(binary_matrix.toarray())\n",
    "\n",
    "# Print the feature names\n",
    "print(\"\\nFeature Names:\")\n",
    "print(feature_names)\n"
   ]
  },
  {
   "cell_type": "code",
   "execution_count": 3,
   "id": "a6a00e14",
   "metadata": {},
   "outputs": [
    {
     "name": "stdout",
     "output_type": "stream",
     "text": [
      "Logarithmic TF Matrix:\n",
      "[[0.69314718 0.         0.         0.69314718 0.         0.\n",
      "  0.69314718 0.         0.         0.         0.         1.09861229\n",
      "  0.69314718 0.         0.         0.69314718 0.         0.69314718\n",
      "  0.69314718 0.         0.         0.69314718]\n",
      " [0.69314718 0.         0.         0.         0.         0.\n",
      "  0.         0.         0.69314718 0.69314718 0.         0.\n",
      "  0.         0.69314718 0.         0.         0.69314718 0.\n",
      "  0.         0.69314718 0.69314718 0.        ]\n",
      " [0.69314718 0.69314718 0.69314718 0.         0.69314718 0.69314718\n",
      "  0.         0.69314718 0.         0.         0.69314718 0.\n",
      "  0.         0.         0.69314718 0.         0.         0.\n",
      "  0.         0.         0.         0.        ]]\n",
      "\n",
      "Feature Names:\n",
      "['and' 'antibiotics' 'as' 'breath' 'bronchitis' 'confirmed' 'cough'\n",
      " 'diagnosis' 'elevated' 'examination' 'inhaler' 'of' 'patient' 'physical'\n",
      " 'prescribed' 'presented' 'revealed' 'shortness' 'symptoms' 'temperature'\n",
      " 'wheezing' 'with']\n"
     ]
    }
   ],
   "source": [
    "import numpy as np\n",
    "from sklearn.feature_extraction.text import CountVectorizer\n",
    "\n",
    "# Sample medical transcripts\n",
    "medical_transcripts = [\n",
    "    \"Patient presented with symptoms of cough and shortness of breath.\",\n",
    "    \"Physical examination revealed elevated temperature and wheezing.\",\n",
    "    \"Diagnosis confirmed as bronchitis, prescribed antibiotics and inhaler.\"\n",
    "]\n",
    "\n",
    "# Initialize CountVectorizer to convert text into term frequency matrix\n",
    "vectorizer = CountVectorizer()\n",
    "\n",
    "# Fit and transform the medical transcripts\n",
    "tf_matrix = vectorizer.fit_transform(medical_transcripts)\n",
    "\n",
    "# Calculate logarithmic TF matrix\n",
    "log_tf_matrix = np.log1p(tf_matrix.toarray())\n",
    "\n",
    "# Print the logarithmic TF matrix\n",
    "print(\"Logarithmic TF Matrix:\")\n",
    "print(log_tf_matrix)\n",
    "\n",
    "# Get the feature names (terms)\n",
    "feature_names = vectorizer.get_feature_names_out()\n",
    "\n",
    "# Print the feature names\n",
    "print(\"\\nFeature Names:\")\n",
    "print(feature_names)\n"
   ]
  },
  {
   "cell_type": "code",
   "execution_count": 8,
   "id": "cf8fa6ff",
   "metadata": {},
   "outputs": [
    {
     "name": "stdout",
     "output_type": "stream",
     "text": [
      "BM25 Scores:\n",
      "Transcript 1: 2.4347863053280485\n",
      "Transcript 2: 0.10753120040691722\n",
      "Transcript 3: 0.10161807940694419\n"
     ]
    }
   ],
   "source": [
    "from rank_bm25 import BM25Okapi\n",
    "\n",
    "# Example medical transcripts data\n",
    "medical_transcripts = [\n",
    "    \"Patient presented with symptoms of cough and shortness of breath.\",\n",
    "    \"Physical examination revealed elevated temperature and wheezing.\",\n",
    "    \"Diagnosis confirmed as bronchitis, prescribed antibiotics and inhaler.\"\n",
    "]\n",
    "\n",
    "# Tokenize the medical transcripts\n",
    "tokenized_transcripts = [transcript.split() for transcript in medical_transcripts]\n",
    "\n",
    "# Create BM25 object\n",
    "bm25 = BM25Okapi(tokenized_transcripts)\n",
    "\n",
    "# Example query\n",
    "query = \"Patient presented with cough symptoms and difficulty breathing.\"\n",
    "\n",
    "# Tokenize the query\n",
    "tokenized_query = query.split()\n",
    "\n",
    "# Get BM25 scores for the query\n",
    "bm25_scores = bm25.get_scores(tokenized_query)\n",
    "\n",
    "# Print BM25 scores for each transcript\n",
    "print(\"BM25 Scores:\")\n",
    "for i, score in enumerate(bm25_scores, 1):\n",
    "    print(f\"Transcript {i}: {score}\")\n"
   ]
  },
  {
   "cell_type": "code",
   "execution_count": 4,
   "id": "5c8fa50a",
   "metadata": {},
   "outputs": [
    {
     "name": "stdout",
     "output_type": "stream",
     "text": [
      "Collecting rank_bm25\n",
      "  Downloading rank_bm25-0.2.2-py3-none-any.whl (8.6 kB)\n",
      "Requirement already satisfied: numpy in c:\\users\\gdk14\\appdata\\local\\programs\\python\\python38\\lib\\site-packages (from rank_bm25) (1.24.3)\n",
      "Installing collected packages: rank_bm25\n",
      "Successfully installed rank_bm25-0.2.2\n"
     ]
    },
    {
     "name": "stderr",
     "output_type": "stream",
     "text": [
      "\n",
      "[notice] A new release of pip is available: 23.3.2 -> 24.0\n",
      "[notice] To update, run: python.exe -m pip install --upgrade pip\n"
     ]
    }
   ],
   "source": [
    "!pip install rank_bm25"
   ]
  },
  {
   "cell_type": "code",
   "execution_count": 5,
   "id": "59fbc0c5",
   "metadata": {},
   "outputs": [
    {
     "ename": "ModuleNotFoundError",
     "evalue": "No module named 'rank_bm25'",
     "output_type": "error",
     "traceback": [
      "\u001b[1;31m---------------------------------------------------------------------------\u001b[0m",
      "\u001b[1;31mModuleNotFoundError\u001b[0m                       Traceback (most recent call last)",
      "Cell \u001b[1;32mIn[5], line 1\u001b[0m\n\u001b[1;32m----> 1\u001b[0m \u001b[38;5;28;01mfrom\u001b[39;00m \u001b[38;5;21;01mrank_bm25\u001b[39;00m \u001b[38;5;28;01mimport\u001b[39;00m BM25Okapi\n\u001b[0;32m      2\u001b[0m \u001b[38;5;28;01mfrom\u001b[39;00m \u001b[38;5;21;01msklearn\u001b[39;00m\u001b[38;5;21;01m.\u001b[39;00m\u001b[38;5;21;01mfeature_extraction\u001b[39;00m\u001b[38;5;21;01m.\u001b[39;00m\u001b[38;5;21;01mtext\u001b[39;00m \u001b[38;5;28;01mimport\u001b[39;00m CountVectorizer\n\u001b[0;32m      4\u001b[0m \u001b[38;5;66;03m# Sample medical transcripts\u001b[39;00m\n",
      "\u001b[1;31mModuleNotFoundError\u001b[0m: No module named 'rank_bm25'"
     ]
    }
   ],
   "source": [
    "from rank_bm25 import BM25Okapi\n",
    "from sklearn.feature_extraction.text import CountVectorizer\n",
    "\n",
    "# Sample medical transcripts\n",
    "medical_transcripts = [\n",
    "    \"Patient presented with symptoms of cough and shortness of breath.\",\n",
    "    \"Physical examination revealed elevated temperature and wheezing.\",\n",
    "    \"Diagnosis confirmed as bronchitis, prescribed antibiotics and inhaler.\"\n",
    "]\n",
    "\n",
    "# Tokenize the medical transcripts\n",
    "tokenized_medical_transcripts = [doc.split() for doc in medical_transcripts]\n",
    "\n",
    "# Initialize BM25Okapi model\n",
    "bm25 = BM25Okapi(tokenized_medical_transcripts)\n",
    "\n",
    "# Define query\n",
    "query = \"symptoms of cough\"\n",
    "\n",
    "# Tokenize the query\n",
    "tokenized_query = query.split()\n",
    "\n",
    "# Get BM25 scores for the query\n",
    "bm25_scores = bm25.get_scores(tokenized_query)\n",
    "\n",
    "# Print BM25 scores\n",
    "print(\"BM25 Scores:\")\n",
    "print(bm25_scores)\n"
   ]
  },
  {
   "cell_type": "code",
   "execution_count": 6,
   "id": "4bfc9bff",
   "metadata": {},
   "outputs": [
    {
     "name": "stdout",
     "output_type": "stream",
     "text": [
      "and\n",
      "antibiotics\n",
      "as\n",
      "breath\n",
      "bronchitis\n",
      "confirmed\n",
      "cough\n",
      "diagnosis\n",
      "elevated\n",
      "examination\n",
      "inhaler\n",
      "of\n",
      "patient\n",
      "physical\n",
      "prescribed\n",
      "presented\n",
      "revealed\n",
      "shortness\n",
      "symptoms\n",
      "temperature\n",
      "wheezing\n",
      "with\n",
      "PMI Scores:\n",
      "[0.0, 0.0, 0.0, 0.0, 0.0, 0.0, 0.0, 0.0, 0.0, 0.0, 0.0, 1.0, 0.0, 0.0, 0.0, 0.0, 0.0, 0.0, 0.0, 0.0, 0.0, 0.0]\n"
     ]
    }
   ],
   "source": [
    "import numpy as np\n",
    "from sklearn.feature_extraction.text import CountVectorizer\n",
    "\n",
    "# Sample medical transcripts\n",
    "medical_transcripts = [\n",
    "    \"Patient presented with symptoms of cough and shortness of breath.\",\n",
    "    \"Physical examination revealed elevated temperature and wheezing.\",\n",
    "    \"Diagnosis confirmed as bronchitis, prescribed antibiotics and inhaler.\"\n",
    "]\n",
    "\n",
    "# Initialize CountVectorizer to convert text into term frequency matrix\n",
    "vectorizer = CountVectorizer()\n",
    "\n",
    "# Fit and transform the medical transcripts\n",
    "tf_matrix = vectorizer.fit_transform(medical_transcripts)\n",
    "\n",
    "# Calculate PMI scores\n",
    "total_docs = len(medical_transcripts)\n",
    "term_frequency = tf_matrix.sum(axis=0)\n",
    "term_frequency = np.array(term_frequency).flatten()\n",
    "\n",
    "pmi_scores = []\n",
    "for term_idx, term in enumerate(vectorizer.get_feature_names_out()):\n",
    "    term_occurrences = term_frequency[term_idx]\n",
    "    doc_occurrences = np.sum(tf_matrix[:, term_idx] > 0)\n",
    "    print(term)\n",
    "    if doc_occurrences == 0:\n",
    "        pmi = 0\n",
    "    else:\n",
    "        pmi = np.log2((term_occurrences / total_docs) / (doc_occurrences / total_docs))\n",
    "    pmi_scores.append(pmi)\n",
    "\n",
    "# Print PMI scores\n",
    "print(\"PMI Scores:\")\n",
    "print(pmi_scores)\n"
   ]
  },
  {
   "cell_type": "code",
   "execution_count": 12,
   "id": "6753c047",
   "metadata": {},
   "outputs": [
    {
     "name": "stdout",
     "output_type": "stream",
     "text": [
      "and\n",
      "antibiotics\n",
      "as\n",
      "breath\n",
      "bronchitis\n",
      "confirmed\n",
      "cough\n",
      "diagnosis\n",
      "elevated\n",
      "examination\n",
      "inhaler\n",
      "of\n",
      "patient\n",
      "physical\n",
      "prescribed\n",
      "presented\n",
      "revealed\n",
      "shortness\n",
      "symptoms\n",
      "temperature\n",
      "wheezing\n",
      "with\n",
      "Chi-Square Scores:\n",
      "[6.5797780435938344, 0.3479084321475626, 0.3479084321475626, 0.3479084321475626, 0.3479084321475626, 0.3479084321475626, 0.3479084321475626, 0.3479084321475626, 0.3479084321475626, 0.3479084321475626, 0.3479084321475626, 0.0703053259871442, 0.3479084321475626, 0.3479084321475626, 0.3479084321475626, 0.3479084321475626, 0.3479084321475626, 0.3479084321475626, 0.3479084321475626, 0.3479084321475626, 0.3479084321475626, 0.3479084321475626]\n"
     ]
    }
   ],
   "source": [
    "import numpy as np\n",
    "from sklearn.feature_extraction.text import CountVectorizer\n",
    "from scipy.stats import chi2_contingency\n",
    "\n",
    "# Sample medical transcripts\n",
    "medical_transcripts = [\n",
    "    \"Patient presented with symptoms of cough and shortness of breath.\",\n",
    "    \"Physical examination revealed elevated temperature and wheezing.\",\n",
    "    \"Diagnosis confirmed as bronchitis, prescribed antibiotics and inhaler.\"\n",
    "]\n",
    "\n",
    "# Initialize CountVectorizer to convert text into term frequency matrix\n",
    "vectorizer = CountVectorizer()\n",
    "\n",
    "# Fit and transform the medical transcripts\n",
    "tf_matrix = vectorizer.fit_transform(medical_transcripts)\n",
    "\n",
    "# Calculate Chi-Square scores\n",
    "term_frequency = tf_matrix.sum(axis=0)\n",
    "term_frequency = np.array(term_frequency).flatten()\n",
    "\n",
    "chi_square_scores = []\n",
    "for term_idx, term in enumerate(vectorizer.get_feature_names_out()):\n",
    "    term_occurrences = term_frequency[term_idx]\n",
    "    doc_occurrences = np.sum(tf_matrix[:, term_idx] > 0)\n",
    "    doc_not_occurrences = tf_matrix.shape[0] - doc_occurrences\n",
    "    term_not_occurrences = tf_matrix.shape[1] - term_occurrences\n",
    "    print(term)\n",
    "\n",
    "    observed = np.array([[term_occurrences, doc_occurrences],\n",
    "                         [term_not_occurrences, doc_not_occurrences]])\n",
    "    chi2, _, _, _ = chi2_contingency(observed)\n",
    "    chi_square_scores.append(chi2)\n",
    "\n",
    "# Print Chi-Square scores\n",
    "print(\"Chi-Square Scores:\")\n",
    "print(chi_square_scores)\n"
   ]
  },
  {
   "cell_type": "code",
   "execution_count": 7,
   "id": "4530769a",
   "metadata": {},
   "outputs": [
    {
     "name": "stdout",
     "output_type": "stream",
     "text": [
      "Information Gain Scores:\n",
      "[0.         0.63651417 0.63651417 0.63651417 0.63651417 0.63651417\n",
      " 0.63651417 0.63651417 0.63651417 0.63651417 0.63651417 0.63651417\n",
      " 0.63651417 0.63651417 0.63651417 0.63651417 0.63651417 0.63651417\n",
      " 0.63651417 0.63651417 0.63651417 0.63651417]\n"
     ]
    }
   ],
   "source": [
    "import numpy as np\n",
    "from sklearn.feature_extraction.text import CountVectorizer\n",
    "from sklearn.feature_selection import mutual_info_classif\n",
    "\n",
    "# Sample medical transcripts\n",
    "medical_transcripts = [\n",
    "    \"Patient presented with symptoms of cough and shortness of breath.\",\n",
    "    \"Physical examination revealed elevated temperature and wheezing.\",\n",
    "    \"Diagnosis confirmed as bronchitis, prescribed antibiotics and inhaler.\"\n",
    "]\n",
    "\n",
    "# Initialize CountVectorizer to convert text into term frequency matrix\n",
    "vectorizer = CountVectorizer()\n",
    "\n",
    "# Fit and transform the medical transcripts\n",
    "tf_matrix = vectorizer.fit_transform(medical_transcripts)\n",
    "\n",
    "# Calculate Information Gain scores\n",
    "information_gain_scores = mutual_info_classif(tf_matrix, [0, 1, 2], discrete_features=True)\n",
    "\n",
    "# Print Information Gain scores\n",
    "print(\"Information Gain Scores:\")\n",
    "print(information_gain_scores)\n"
   ]
  },
  {
   "cell_type": "code",
   "execution_count": null,
   "id": "3c03683b",
   "metadata": {},
   "outputs": [],
   "source": []
  }
 ],
 "metadata": {
  "kernelspec": {
   "display_name": "Python 3 (ipykernel)",
   "language": "python",
   "name": "python3"
  },
  "language_info": {
   "codemirror_mode": {
    "name": "ipython",
    "version": 3
   },
   "file_extension": ".py",
   "mimetype": "text/x-python",
   "name": "python",
   "nbconvert_exporter": "python",
   "pygments_lexer": "ipython3",
   "version": "3.11.4"
  }
 },
 "nbformat": 4,
 "nbformat_minor": 5
}
